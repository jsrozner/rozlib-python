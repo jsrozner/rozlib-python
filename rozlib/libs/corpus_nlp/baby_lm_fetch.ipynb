{
 "cells": [
  {
   "metadata": {
    "ExecuteTime": {
     "end_time": "2024-09-24T22:30:37.009528Z",
     "start_time": "2024-09-24T22:30:37.007352Z"
    }
   },
   "cell_type": "code",
   "source": [
    "# todo: OSF fetch\n",
    "\n",
    "# download text_data from here: https://osf.io/ad7qg/\n",
    "# store / stored in data/baby_lm_text_data.zip\n",
    "\n",
    "# or consider\n",
    "# https://www.kaggle.com/datasets/edenbd/children-stories-text-corpus"
   ],
   "id": "6eed66580c41a96a",
   "outputs": [],
   "execution_count": 17
  },
  {
   "metadata": {
    "ExecuteTime": {
     "end_time": "2024-09-25T01:42:45.120833Z",
     "start_time": "2024-09-25T01:42:39.608982Z"
    }
   },
   "cell_type": "code",
   "source": [
    "from osfclient.api import OSF\n",
    "\n",
    "osf = OSF()\n",
    "\n",
    "# Get the project node\n",
    "project = osf.project(\"ad7qg\")\n",
    "\n",
    "# Get the file storage (by default, it's in 'osfstorage')\n",
    "storage = project.storage('osfstorage')\n",
    "\n",
    "def get_download_url():\n",
    "    for f in storage.files:\n",
    "        if f.path == \"/text_data/train_10M.zip\":\n",
    "            return f._download_url\n",
    "        \n",
    "file_url = get_download_url()\n",
    "    \n"
   ],
   "id": "5d2dd8af7425301a",
   "outputs": [],
   "execution_count": 1
  },
  {
   "metadata": {
    "ExecuteTime": {
     "end_time": "2024-09-25T01:42:46.550685Z",
     "start_time": "2024-09-25T01:42:46.546139Z"
    }
   },
   "cell_type": "code",
   "source": [
    "from pathlib import Path\n",
    "\n",
    "save_dir = Path(\"../data/corpuses/\")\n",
    "assert Path.exists(save_dir)\n",
    "\n",
    "filename = \"baby_lm_train_10M\"\n",
    "filename_zip = filename + \".zip\"\n",
    "\n",
    "babylm_unzip_path = save_dir/filename\n",
    "babylm_zip_path = save_dir / filename_zip"
   ],
   "id": "724e7a2b4b133e73",
   "outputs": [],
   "execution_count": 2
  },
  {
   "metadata": {
    "ExecuteTime": {
     "end_time": "2024-09-25T01:42:49.381436Z",
     "start_time": "2024-09-25T01:42:48.040175Z"
    }
   },
   "cell_type": "code",
   "source": [
    "import requests\n",
    "\n",
    "def download_file(url: str, save_path: str) -> None:\n",
    "    response = requests.get(url)\n",
    "\n",
    "    if response.status_code == 200:\n",
    "        with open(save_path, 'wb') as file:\n",
    "            file.write(response.content)\n",
    "        print(f\"File downloaded successfully and saved to {save_path}\")\n",
    "    else:\n",
    "        raise Exception(f\"Failed to download file. Status code: {response.status_code}\")\n",
    "    \n",
    "download_file(file_url, babylm_zip_path)\n"
   ],
   "id": "5ab45f258cf288dd",
   "outputs": [
    {
     "name": "stdout",
     "output_type": "stream",
     "text": [
      "File downloaded successfully and saved to ../data/corpuses/baby_lm_train_10M.zip\n"
     ]
    }
   ],
   "execution_count": 3
  },
  {
   "metadata": {
    "ExecuteTime": {
     "end_time": "2024-09-25T01:42:53.258865Z",
     "start_time": "2024-09-25T01:42:53.102906Z"
    }
   },
   "cell_type": "code",
   "source": [
    "# unzip\n",
    "import zipfile\n",
    "\n",
    "def unzip_file(zip_file_path: str, extract_to: str) -> None:\n",
    "    with zipfile.ZipFile(zip_file_path, 'r') as zip_ref:\n",
    "        zip_ref.extractall(extract_to)\n",
    "    print(f\"File extracted successfully to {extract_to}\")\n",
    "\n",
    "unzip_file(babylm_zip_path, babylm_unzip_path)\n"
   ],
   "id": "6b87f92d9cfffd6",
   "outputs": [
    {
     "name": "stdout",
     "output_type": "stream",
     "text": [
      "File extracted successfully to ../data/corpuses/baby_lm_train_10M\n"
     ]
    }
   ],
   "execution_count": 4
  },
  {
   "metadata": {
    "ExecuteTime": {
     "end_time": "2024-09-25T01:42:55.753646Z",
     "start_time": "2024-09-25T01:42:55.744317Z"
    }
   },
   "cell_type": "code",
   "source": [
    "import os\n",
    "\n",
    "def print_first_20_lines(directory: str) -> None:\n",
    "    for filename in os.listdir(directory):\n",
    "        file_path = os.path.join(directory, filename)\n",
    "        \n",
    "        if os.path.isfile(file_path):\n",
    "            print(f\"\\nFile: {filename}\\n{'=' * 40}\")\n",
    "            \n",
    "            try:\n",
    "                # Open the file and read the first 20 lines\n",
    "                with open(file_path, 'r', encoding='utf-8') as file:\n",
    "                    for i, line in enumerate(file):\n",
    "                        if i >= 5:\n",
    "                            break\n",
    "                        print(line.strip())\n",
    "            except Exception as e:\n",
    "                print(f\"Error reading {filename}: {e}\")\n",
    "            print(f\"{'=' * 40}\")\n",
    "\n",
    "# Example usage:\n",
    "print_first_20_lines(babylm_unzip_path/\"train_10M\")\n"
   ],
   "id": "7cd5d447ccb55e09",
   "outputs": [
    {
     "name": "stdout",
     "output_type": "stream",
     "text": [
      "\n",
      "File: open_subtitles.train\n",
      "========================================\n",
      "All the way up to the free states.\n",
      "Good thinkin', Huck.\n",
      "Why, thank you,Jim.\n",
      "- Here's some more wood,Jim.\n",
      "- Right there.\n",
      "========================================\n",
      "\n",
      "File: bnc_spoken.train\n",
      "========================================\n",
      "Yeah.\n",
      "Compound's things like six nine, six nine erm\n",
      "Nine twelve\n",
      "Yeah.\n",
      "That sort of stuff.\n",
      "========================================\n",
      "\n",
      "File: gutenberg.train\n",
      "========================================\n",
      "*CHAPTER XI*\n",
      "*FARMERS IN EARNEST*\n",
      "Two months passed, and spring deepened into summer.  The gold of the wattle, which had covered the hills when the strangers came to Gippsland, faded; its tiny yellow balls floated down on the surface of the river, carpeting it with a rippling sheet of gold, until the current took them away to sea.  The hot winds breathed upon the creamy tangles of clematis, and turned them to hanging masses of dull brown.  The tiny orchids in the gullies sighed for the wet spring, drooped, and died. But the convolvulus and the purple sarsaparilla went on blossoming bravely, climbing through the densest masses of the scrub; and the tiny eucalyptus capsules burst, flinging their wee caps afar, and releasing bunches of perfumed stamens, so that all the air was filled with sweetness.  Out on the hills the grass turned yellow and the ground was hard.  But the gullies were always cool, their rich earth moist under the great green tree-ferns, about whose roots the little streams gurgled, winding away to the lake.\n",
      "Garth loved the gullies.  Now that Mother and Daddy were so busy all day there was much time on his hands.  A small boy of seven cannot always help, no matter how willing he may be; there were times when all his jobs—and they were many—were done, and he was free to wander off into the paddocks, where the cool fern-glades were storehouses of wonder for the little city lad.  Books were forbidden him nowadays; but his brain held old stories of fairies and elves and gnomes, and it was easy to people this new country with them all.\n",
      "Best of all he loved the days when ’Possum worked upon the little farm. ’Possum never was too busy for a small boy.  Her day’s work was a generous one, for she came early—rising at no one knew what unearthly hour to finish her home-tasks first—and stayed late, riding away in the dusk with her blue skirt flapping against the side of the old grey; and she was a swift, tireless worker, with a rare ability for using her head as well as her hands, so that she never made two strokes where one would suffice.  But she managed to include Garth in most things.  If she were ploughing, he knew that by waiting at the end of the furrow he could have a few words with her as he watched the fascinating business of turning the big disc-plough; and if the going were good, there might even be the wild joy of sitting in its curved iron seat, and holding the reins while ’Possum turned the horses.  Always at the end of the day he was there to help her take them out of the plough; and then, each mounted on a broad bare back, with the harness jingling, they would jog home together to the stable, and he would help to rub down the horses and feed them.  ’Possum always let him help.  It was one of the things Garth liked best about her.\n",
      "========================================\n",
      "\n",
      "File: childes.train\n",
      "========================================\n",
      "*CHI:\tno.\n",
      "*MOT:\tand sit down.\n",
      "*CHI:\tthere a napkin.\n",
      "*MOT:\tthey are napkins yes.\n",
      "*MOT:\tturn around and finish your lunch.\n",
      "========================================\n",
      "\n",
      "File: simple_wiki.train\n",
      "========================================\n",
      "The usage of .gov as a gTLD controlled only by the U.S. is controversial, as some people believe this to be an example of arrogance by the U.S. – such views hold that usage of .fed.us or a new second-level domain of .gov.us would be more suitable. Others believe that U.S. control of .gov is a natural result of the fact that the U.S. federal government was responsible for the initial creation of the Internet and its first user.\n",
      "\n",
      "= = = Corcelles-près-Payerne = = =\n",
      "Corcelles-près-Payerne is a municipality in the Broye-Vully district in the canton of Vaud in Switzerland.\n",
      "\n",
      "========================================\n",
      "\n",
      "File: switchboard.train\n",
      "========================================\n",
      "A:\tI'm sure they are.\n",
      "A:\tThat's right,\n",
      "A:\tI'm sure that true.\n",
      "A:\tIt's a lot different than working in a kids preschool.\n",
      "B:\tA lot different.\n",
      "========================================\n"
     ]
    }
   ],
   "execution_count": 5
  },
  {
   "metadata": {},
   "cell_type": "code",
   "outputs": [],
   "execution_count": null,
   "source": "",
   "id": "218f9b79cb0aaf"
  }
 ],
 "metadata": {
  "kernelspec": {
   "display_name": "Python 3",
   "language": "python",
   "name": "python3"
  },
  "language_info": {
   "codemirror_mode": {
    "name": "ipython",
    "version": 2
   },
   "file_extension": ".py",
   "mimetype": "text/x-python",
   "name": "python",
   "nbconvert_exporter": "python",
   "pygments_lexer": "ipython2",
   "version": "2.7.6"
  }
 },
 "nbformat": 4,
 "nbformat_minor": 5
}
